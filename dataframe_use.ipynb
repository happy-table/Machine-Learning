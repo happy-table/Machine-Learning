{
 "cells": [
  {
   "cell_type": "code",
   "execution_count": 2,
   "id": "aeb4fc4f-8b2b-4578-b5be-f2c52ed635d2",
   "metadata": {},
   "outputs": [
    {
     "name": "stdout",
     "output_type": "stream",
     "text": [
      "0    0\n",
      "1    1\n",
      "2    1\n",
      "3    0\n",
      "4    4\n",
      "dtype: int32\n",
      "          0         1         2         3         4\n",
      "0  0.304151  0.405367  0.991107  0.825061  0.101843\n",
      "1  0.775316  0.871109  0.657547  0.461990  0.229586\n",
      "2  0.756455  0.020590  0.153868  0.355756  0.703577\n",
      "3  0.551948  0.257640  0.934165  0.558308  0.640034\n",
      "4  0.587092  0.090567  0.277687  0.400855  0.991835\n",
      "0    0.304151\n",
      "1    0.775316\n",
      "2    0.756455\n",
      "3    0.551948\n",
      "4    0.587092\n",
      "Name: 0, dtype: float64\n",
      "0    0.853456\n",
      "1    0.775316\n",
      "2    0.756455\n",
      "3    0.551948\n",
      "4    0.587092\n",
      "Name: 0, dtype: float64\n"
     ]
    }
   ],
   "source": [
    "import numpy as np\n",
    "import pandas as pd\n",
    "s = pd.Series(np.random.randint(5,size=5))\n",
    "df=pd.DataFrame(np.random.rand(5,5))\n",
    "print(s)\n",
    "print(df)\n",
    "df.dtypes\n",
    "print(df[0])\n",
    "#df.loc[row_indexer, \"col\"] = values\n",
    "df.loc[0,0]=0.853456\n",
    "#df[0][0]=0.853456\n",
    "print(df[0])"
   ]
  },
  {
   "cell_type": "code",
   "execution_count": 3,
   "id": "e8287352-122c-45da-b711-633b307f4c97",
   "metadata": {},
   "outputs": [
    {
     "name": "stdout",
     "output_type": "stream",
     "text": [
      "          0         1         2         3         4\n",
      "0  0.242837  0.226354  0.046837  0.999906  0.657446\n",
      "1  0.644059  0.443679  0.530602  0.214552  0.659783\n",
      "2  0.302653  0.838987  0.264464  0.423923  0.965030\n",
      "3  0.478898  0.571268  0.969868  0.032339  0.055527\n",
      "4  0.328267  0.273722  0.450417  0.495131  0.439256\n",
      "Transpose \n",
      "          0         1         2         3         4\n",
      "0  0.242837  0.644059  0.302653  0.478898  0.328267\n",
      "1  0.226354  0.443679  0.838987  0.571268  0.273722\n",
      "2  0.046837  0.530602  0.264464  0.969868  0.450417\n",
      "3  0.999906  0.214552  0.423923  0.032339  0.495131\n",
      "4  0.657446  0.659783  0.965030  0.055527  0.439256\n",
      "Here Mean is : 0    0.399343\n",
      "1    0.470802\n",
      "2    0.452437\n",
      "3    0.433170\n",
      "4    0.555408\n",
      "dtype: float64\n",
      "Here Variance is : 0    0.026277\n",
      "1    0.061246\n",
      "2    0.118423\n",
      "3    0.133393\n",
      "4    0.113117\n",
      "dtype: float64\n"
     ]
    }
   ],
   "source": [
    "df=pd.DataFrame(np.random.rand(5,5))\n",
    "print(df)\n",
    "print(\"Transpose \")\n",
    "print(df.transpose())\n",
    "Mean=df.mean()\n",
    "print(\"Here Mean is :\" ,Mean)\n",
    "Variance=df.var()\n",
    "print(\"Here Variance is :\",Variance)"
   ]
  },
  {
   "cell_type": "code",
   "execution_count": 4,
   "id": "86f49318-0e88-4c80-a484-a3201e023cc0",
   "metadata": {},
   "outputs": [
    {
     "name": "stdout",
     "output_type": "stream",
     "text": [
      "          0         1         2         3\n",
      "0  0.073729  0.576513  0.132422  0.148360\n",
      "1  0.386995  0.345030  0.587458  0.219141\n",
      "2  0.475958  0.309940  0.301649  0.617304\n",
      "3  0.934063  0.623608  0.149754  0.677385\n",
      "Maximum value 0    0.934063\n",
      "1    0.623608\n",
      "2    0.587458\n",
      "3    0.677385\n",
      "dtype: float64\n",
      "Minimum value 0    0.073729\n",
      "1    0.309940\n",
      "2    0.132422\n",
      "3    0.148360\n",
      "dtype: float64\n",
      "0    1.870746\n",
      "1    1.855092\n",
      "2    1.171284\n",
      "3    1.662189\n",
      "dtype: float64\n",
      "A    24\n",
      "B    28\n",
      "C    32\n",
      "D    36\n",
      "dtype: int64\n",
      "    A   B   C   D\n",
      "0   0   1   2   3\n",
      "1   4   5   6   7\n",
      "2   8   9  10  11\n",
      "3  12  13  14  15\n",
      "     0\n",
      "0    0\n",
      "1    1\n",
      "2    2\n",
      "3    3\n",
      "4    4\n",
      "5    5\n",
      "6    6\n",
      "7    7\n",
      "8    8\n",
      "9    9\n",
      "10  10\n",
      "11  11\n",
      "12  12\n",
      "13  13\n",
      "14  14\n",
      "15  15\n"
     ]
    }
   ],
   "source": [
    "df=pd.DataFrame(np.random.rand(4,4))\n",
    "df1 = pd.DataFrame(np.arange(16).reshape(4,4), columns=list(\"ABCD\"))\n",
    "df2 = pd.DataFrame(np.arange(16))\n",
    "print(df)\n",
    "print(\"Maximum value\",df.max())\n",
    "print(\"Minimum value\",df.min())\n",
    "print(df.sum(axis=0))\n",
    "print(df1.sum(axis=0))\n",
    "print(df1)\n",
    "print(df2)"
   ]
  },
  {
   "cell_type": "code",
   "execution_count": 5,
   "id": "f4d00457-4278-41fd-880e-28d89516d69f",
   "metadata": {},
   "outputs": [
    {
     "data": {
      "text/html": [
       "<div>\n",
       "<style scoped>\n",
       "    .dataframe tbody tr th:only-of-type {\n",
       "        vertical-align: middle;\n",
       "    }\n",
       "\n",
       "    .dataframe tbody tr th {\n",
       "        vertical-align: top;\n",
       "    }\n",
       "\n",
       "    .dataframe thead th {\n",
       "        text-align: right;\n",
       "    }\n",
       "</style>\n",
       "<table border=\"1\" class=\"dataframe\">\n",
       "  <thead>\n",
       "    <tr style=\"text-align: right;\">\n",
       "      <th></th>\n",
       "      <th>one</th>\n",
       "      <th>two</th>\n",
       "    </tr>\n",
       "  </thead>\n",
       "  <tbody>\n",
       "    <tr>\n",
       "      <th>a</th>\n",
       "      <td>A</td>\n",
       "      <td>NaN</td>\n",
       "    </tr>\n",
       "    <tr>\n",
       "      <th>b</th>\n",
       "      <td>B</td>\n",
       "      <td>NaN</td>\n",
       "    </tr>\n",
       "    <tr>\n",
       "      <th>c</th>\n",
       "      <td>C</td>\n",
       "      <td>NaN</td>\n",
       "    </tr>\n",
       "    <tr>\n",
       "      <th>d</th>\n",
       "      <td>D</td>\n",
       "      <td>NaN</td>\n",
       "    </tr>\n",
       "    <tr>\n",
       "      <th>0</th>\n",
       "      <td>NaN</td>\n",
       "      <td>1.0</td>\n",
       "    </tr>\n",
       "    <tr>\n",
       "      <th>1</th>\n",
       "      <td>NaN</td>\n",
       "      <td>2.0</td>\n",
       "    </tr>\n",
       "    <tr>\n",
       "      <th>2</th>\n",
       "      <td>NaN</td>\n",
       "      <td>3.0</td>\n",
       "    </tr>\n",
       "  </tbody>\n",
       "</table>\n",
       "</div>"
      ],
      "text/plain": [
       "   one  two\n",
       "a    A  NaN\n",
       "b    B  NaN\n",
       "c    C  NaN\n",
       "d    D  NaN\n",
       "0  NaN  1.0\n",
       "1  NaN  2.0\n",
       "2  NaN  3.0"
      ]
     },
     "execution_count": 5,
     "metadata": {},
     "output_type": "execute_result"
    }
   ],
   "source": [
    "dict={\n",
    "    \"one\": pd.Series([\"A\",\"B\",\"C\",\"D\"], index=[\"a\",\"b\",\"c\",\"d\"] ),\n",
    "    \"two\" : pd.Series([1,2,3])\n",
    "}\n",
    "df = pd.DataFrame(dict)\n",
    "df"
   ]
  },
  {
   "cell_type": "code",
   "execution_count": 6,
   "id": "b2d4059e-a732-4440-8ac0-8be2ca6623a2",
   "metadata": {},
   "outputs": [
    {
     "data": {
      "text/plain": [
       "one    3\n",
       "two    4\n",
       "dtype: int64"
      ]
     },
     "execution_count": 6,
     "metadata": {},
     "output_type": "execute_result"
    }
   ],
   "source": [
    "df.isna().sum()"
   ]
  },
  {
   "cell_type": "code",
   "execution_count": null,
   "id": "30b783eb-d47b-452b-bdd4-3bec8bf3f930",
   "metadata": {},
   "outputs": [],
   "source": [
    "df['two'].fillna(df['two'].mean(),inplace=True)\n",
    "df"
   ]
  },
  {
   "cell_type": "code",
   "execution_count": 10,
   "id": "9d72c05d-ad9e-437b-b198-dcfc034a641f",
   "metadata": {},
   "outputs": [
    {
     "data": {
      "text/html": [
       "<div>\n",
       "<style scoped>\n",
       "    .dataframe tbody tr th:only-of-type {\n",
       "        vertical-align: middle;\n",
       "    }\n",
       "\n",
       "    .dataframe tbody tr th {\n",
       "        vertical-align: top;\n",
       "    }\n",
       "\n",
       "    .dataframe thead th {\n",
       "        text-align: right;\n",
       "    }\n",
       "</style>\n",
       "<table border=\"1\" class=\"dataframe\">\n",
       "  <thead>\n",
       "    <tr style=\"text-align: right;\">\n",
       "      <th></th>\n",
       "      <th>one</th>\n",
       "      <th>two</th>\n",
       "    </tr>\n",
       "  </thead>\n",
       "  <tbody>\n",
       "    <tr>\n",
       "      <th>a</th>\n",
       "      <td>A</td>\n",
       "      <td>0.0</td>\n",
       "    </tr>\n",
       "    <tr>\n",
       "      <th>b</th>\n",
       "      <td>B</td>\n",
       "      <td>0.0</td>\n",
       "    </tr>\n",
       "    <tr>\n",
       "      <th>c</th>\n",
       "      <td>C</td>\n",
       "      <td>0.0</td>\n",
       "    </tr>\n",
       "    <tr>\n",
       "      <th>d</th>\n",
       "      <td>D</td>\n",
       "      <td>0.0</td>\n",
       "    </tr>\n",
       "    <tr>\n",
       "      <th>0</th>\n",
       "      <td>8</td>\n",
       "      <td>1.0</td>\n",
       "    </tr>\n",
       "    <tr>\n",
       "      <th>1</th>\n",
       "      <td>8</td>\n",
       "      <td>2.0</td>\n",
       "    </tr>\n",
       "    <tr>\n",
       "      <th>2</th>\n",
       "      <td>8</td>\n",
       "      <td>3.0</td>\n",
       "    </tr>\n",
       "  </tbody>\n",
       "</table>\n",
       "</div>"
      ],
      "text/plain": [
       "  one  two\n",
       "a   A  0.0\n",
       "b   B  0.0\n",
       "c   C  0.0\n",
       "d   D  0.0\n",
       "0   8  1.0\n",
       "1   8  2.0\n",
       "2   8  3.0"
      ]
     },
     "execution_count": 10,
     "metadata": {},
     "output_type": "execute_result"
    }
   ],
   "source": [
    "dict={\n",
    "    \"one\": pd.Series([\"A\",\"B\",\"C\",\"D\"], index=[\"a\",\"b\",\"c\",\"d\"] ),\n",
    "    \"two\" : pd.Series([1,2,3])\n",
    "}\n",
    "df = pd.DataFrame(dict)\n",
    "df['one'] = df['one'].fillna(8)\n",
    "df['two'] = df['two'].fillna(0)\n",
    "df"
   ]
  },
  {
   "cell_type": "code",
   "execution_count": 9,
   "id": "a3aa35e4-acb9-4bec-9d26-a3f7c3e185d9",
   "metadata": {},
   "outputs": [
    {
     "data": {
      "text/plain": [
       "{'one': a    A\n",
       " b    B\n",
       " c    C\n",
       " d    D\n",
       " dtype: object,\n",
       " 'two': 0    1\n",
       " 1    2\n",
       " 2    3\n",
       " dtype: int64}"
      ]
     },
     "execution_count": 9,
     "metadata": {},
     "output_type": "execute_result"
    }
   ],
   "source": [
    "dict"
   ]
  },
  {
   "cell_type": "code",
   "execution_count": null,
   "id": "1dc69aa5-026e-46a7-bad1-90da6bda8370",
   "metadata": {},
   "outputs": [],
   "source": []
  }
 ],
 "metadata": {
  "kernelspec": {
   "display_name": "Python [conda env:base] *",
   "language": "python",
   "name": "conda-base-py"
  },
  "language_info": {
   "codemirror_mode": {
    "name": "ipython",
    "version": 3
   },
   "file_extension": ".py",
   "mimetype": "text/x-python",
   "name": "python",
   "nbconvert_exporter": "python",
   "pygments_lexer": "ipython3",
   "version": "3.13.5"
  }
 },
 "nbformat": 4,
 "nbformat_minor": 5
}
